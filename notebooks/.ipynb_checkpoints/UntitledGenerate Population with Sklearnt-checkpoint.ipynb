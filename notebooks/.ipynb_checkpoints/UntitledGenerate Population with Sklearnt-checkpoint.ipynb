{
 "cells": [
  {
   "cell_type": "code",
   "execution_count": null,
   "metadata": {},
   "outputs": [],
   "source": [
    "from sklearn.datasets import make_regression"
   ]
  },
  {
   "cell_type": "code",
   "execution_count": null,
   "metadata": {},
   "outputs": [],
   "source": [
    "def regression():\n",
    "    # Generate a random regression problem\n",
    "    X, y = make_regression(n_samples=5000, n_features=25, n_informative=25,\n",
    "                           n_targets=1, random_state=100, noise=0.05)\n",
    "    y *= 0.01\n",
    "    X_train, X_test, y_train, y_test = train_test_split(X, y, test_size=0.1,\n",
    "                                                        random_state=1111)\n",
    "\n",
    "    model = NeuralNet(\n",
    "        layers=[\n",
    "            Dense(64, Parameters(init='normal')),\n",
    "            Activation('linear'),\n",
    "            Dense(32, Parameters(init='normal')),\n",
    "            Activation('linear'),\n",
    "            Dense(1),\n",
    "        ],\n",
    "        loss='mse',\n",
    "        optimizer=Adam(),\n",
    "        metric='mse',\n",
    "        batch_size=256,\n",
    "        max_epochs=15,\n",
    "    )\n",
    "    model.fit(X_train, y_train)\n",
    "    predictions = model.predict(X_test)\n",
    "    print(\"regression mse\", mean_squared_error(y_test, predictions.flatten())) "
   ]
  }
 ],
 "metadata": {
  "kernelspec": {
   "display_name": "Python 3",
   "language": "python",
   "name": "python3"
  },
  "language_info": {
   "codemirror_mode": {
    "name": "ipython",
    "version": 3
   },
   "file_extension": ".py",
   "mimetype": "text/x-python",
   "name": "python",
   "nbconvert_exporter": "python",
   "pygments_lexer": "ipython3",
   "version": "3.7.4"
  }
 },
 "nbformat": 4,
 "nbformat_minor": 2
}
