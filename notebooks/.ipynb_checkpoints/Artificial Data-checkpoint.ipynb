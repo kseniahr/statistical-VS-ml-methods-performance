{
 "cells": [
  {
   "cell_type": "code",
   "execution_count": 1,
   "metadata": {},
   "outputs": [],
   "source": [
    "import pandas as pd\n",
    "import numpy as np\n",
    "import random"
   ]
  },
  {
   "cell_type": "code",
   "execution_count": 5,
   "metadata": {},
   "outputs": [],
   "source": [
    "parameters = [N, n, k]"
   ]
  },
  {
   "cell_type": "code",
   "execution_count": 4,
   "metadata": {},
   "outputs": [],
   "source": [
    "#data generation parameters\n",
    "N=10000 # Observations in the population\n",
    "n=1000  # Observations in each sample \n",
    "k=10   # Number of samples\n",
    "m=3    # Number of models: Linear Regression, Random Forest, LSTM Neural Net\n",
    "parameters = [N, n, k]"
   ]
  },
  {
   "cell_type": "code",
   "execution_count": null,
   "metadata": {},
   "outputs": [],
   "source": [
    "# Parameter for the simulation model\n",
    "intercept = 0\n",
    "beta1 = 1\n",
    "beta2 = 1\n",
    "beta3 = 1\n",
    "error_sd = 1"
   ]
  },
  {
   "cell_type": "code",
   "execution_count": null,
   "metadata": {},
   "outputs": [],
   "source": [
    "# Generate exogene variables (including latent variables like prediction-error)\n",
    "# rnorm draws random numbers from a normal distribution, \n",
    "# the arguments are rnorm(Number of random numbers, mean, sd) \n"
   ]
  },
  {
   "cell_type": "code",
   "execution_count": null,
   "metadata": {},
   "outputs": [],
   "source": [
    "X1 = np.random.normal(0.0, 1.0, N) \n",
    "X2 = np.random.normal(0.0, 1.0, N) \n",
    "X3 = np.random.normal(0.0, 1.0, N) \n",
    "error = np.random.normal(0.0, error_sd, N)"
   ]
  },
  {
   "cell_type": "code",
   "execution_count": null,
   "metadata": {},
   "outputs": [],
   "source": [
    "# calculate endogene variables\n",
    "Y = intercept+ beta1*X1+ beta2*X2+ beta3*X3 + error"
   ]
  },
  {
   "cell_type": "code",
   "execution_count": null,
   "metadata": {},
   "outputs": [],
   "source": [
    "# combine them in a data-frame\n",
    "population = pd.DataFrame({'X1': X1, 'X2': X2, 'X3': X3, 'Y': Y, 'error': error})"
   ]
  },
  {
   "cell_type": "code",
   "execution_count": null,
   "metadata": {},
   "outputs": [],
   "source": [
    "population.head()"
   ]
  },
  {
   "cell_type": "code",
   "execution_count": null,
   "metadata": {},
   "outputs": [],
   "source": [
    "index = random.sample(range(1, N), n)"
   ]
  },
  {
   "cell_type": "code",
   "execution_count": null,
   "metadata": {},
   "outputs": [],
   "source": [
    "samples_list = [[0]]*k\n",
    "print(samples_list)\n",
    "for i in range(0, k):\n",
    "    index = random.sample(range(0, N), n)\n",
    "    samples_list[i] = population.iloc[ index, :]\n",
    "    samples_list[i].insert(0, 'sample_n', i)"
   ]
  },
  {
   "cell_type": "code",
   "execution_count": null,
   "metadata": {},
   "outputs": [],
   "source": [
    "# For dataset(random sample) description\n",
    "import statsmodels.api as sm\n",
    "\n",
    "X = samples_list[0][['X1','X2', 'X3']] # here we have 3 variables for multiple regression\n",
    "Y = samples_list[0]['Y']\n",
    "\n",
    "X = sm.add_constant(X) # adding a constant\n",
    "\n",
    "model = sm.OLS(Y, X).fit()\n",
    "predictions = model.predict(X) \n",
    "\n",
    "print_model = model.summary()\n",
    "print(print_model)"
   ]
  },
  {
   "cell_type": "code",
   "execution_count": null,
   "metadata": {},
   "outputs": [],
   "source": [
    "def calculate_perform_metrics(y_test, y_pred):\n",
    "    # Calculate mean squarred error (MSE)\n",
    "    MSE = metrics.mean_squared_error(y_test, y_pred)\n",
    "    # Calculate mean absolute percentage error (MAPE)\n",
    "    MAPE = np.mean(np.abs((y_test - y_pred) / y_test)) * 100\n",
    "    # Calculate symmetric mean absolute percentage error (sMAPE)\n",
    "    sMAPE = 100/len(y_test) * np.sum(2 * np.abs(y_pred - y_test) / (np.abs(y_test) + np.abs(y_pred)))        \n",
    "    return MSE, MAPE, sMAPE\n",
    "    "
   ]
  },
  {
   "cell_type": "markdown",
   "metadata": {},
   "source": [
    "now we have k samples, each one with n observations, stored in the object samples_list"
   ]
  },
  {
   "cell_type": "code",
   "execution_count": null,
   "metadata": {},
   "outputs": [],
   "source": [
    "from sklearn.model_selection import train_test_split \n",
    "from sklearn.linear_model import LinearRegression\n",
    "from sklearn.ensemble import RandomForestRegressor, GradientBoostingRegressor\n",
    "from sklearn import metrics\n",
    "\n",
    "# Next we want to fit a model on each sample\n",
    "mlr = LinearRegression()\n",
    "rf  = RandomForestRegressor()\n",
    "gb  = GradientBoostingRegressor()\n",
    "\n",
    "my_models_t1 = [mlr, rf, gb]\n",
    "\n",
    "features = ['X1','X2', 'X3']\n",
    "#---------------------------------------------------------\n",
    "# Fit Linear Regression to all samples of Y1\n",
    "#---------------------------------------------------------\n",
    "MSE_mlr   = np.empty(k)\n",
    "MAPE_mlr  = np.empty(k)\n",
    "sMAPE_mlr = np.empty(k)\n",
    "\n",
    "for i in range(0, k):\n",
    "    samples_list[i] = pd.DataFrame(samples_list[i], columns = ['X1' , 'X2', 'X3', 'Y'])\n",
    "    X = samples_list[i].drop('Y', axis = 1) # here we have 3 variables for multiple regression.\n",
    "    Y = samples_list[i]['Y']\n",
    "    \n",
    "    X_train, X_test, y_train, y_test = train_test_split(X, Y, test_size=0.2, random_state=0)\n",
    "        \n",
    "    my_models_t1[0].fit(X_train, y_train) #training the algorithm\n",
    "    y_pred = my_models_t1[0].predict(X_test)\n",
    "     \n",
    "    MSE_mlr[i], MAPE_mlr[i], sMAPE_mlr[i] = calculate_perform_metrics(y_test, y_pred) \n",
    "         \n",
    "scores_mlr = pd.DataFrame({'MSE': MSE_mlr, 'MAPE': MAPE_mlr, 'sMAPE': sMAPE_mlr})                                                                                            \n",
    "scores_mlr.mean()        \n"
   ]
  },
  {
   "cell_type": "code",
   "execution_count": null,
   "metadata": {},
   "outputs": [],
   "source": [
    "#---------------------------------------------------------\n",
    "# Fit RandomForestRegressor to all samples of Y1\n",
    "#---------------------------------------------------------\n",
    "\n",
    "MSE_rf   = np.empty(k)\n",
    "MAPE_rf  = np.empty(k)\n",
    "sMAPE_rf = np.empty(k)\n",
    "\n",
    "for i in range(0, k):\n",
    "    samples_list[i] = pd.DataFrame(samples_list[i], columns = ['X1' , 'X2', 'X3', 'Y'])\n",
    "    X = samples_list[i].drop('Y', axis = 1) # here we have 3 variables for multiple regression.\n",
    "    Y = samples_list[i]['Y']\n",
    "    \n",
    "    X_train, X_test, y_train, y_test = train_test_split(X, Y, test_size=0.2, random_state=0)\n",
    "        \n",
    "    my_models_t1[1].fit(X_train, y_train) #training the algorithm\n",
    "    y_pred = my_models_t1[1].predict(X_test)\n",
    "     \n",
    "    MSE_mlr[i], MAPE_mlr[i], sMAPE_mlr[i] = calculate_perform_metrics(y_test, y_pred) \n",
    "         \n",
    "scores_rf = pd.DataFrame({'MSE': MSE_mlr, 'MAPE': MAPE_mlr, 'sMAPE': sMAPE_mlr})                                                                                            \n",
    "scores_rf.mean()        \n"
   ]
  },
  {
   "cell_type": "code",
   "execution_count": null,
   "metadata": {},
   "outputs": [],
   "source": [
    "#---------------------------------------------------------\n",
    "# Fit GradientBoostingRegressor to all samples of Y1\n",
    "#---------------------------------------------------------\n",
    "\n",
    "MSE_gb   = np.empty(k)\n",
    "MAPE_gb  = np.empty(k)\n",
    "sMAPE_gb = np.empty(k)\n",
    "\n",
    "for i in range(0, k):\n",
    "    samples_list[i] = pd.DataFrame(samples_list[i], columns = ['X1' , 'X2', 'X3', 'Y'])\n",
    "    X = samples_list[i].drop('Y', axis = 1) # here we have 3 variables for multiple regression.\n",
    "    Y = samples_list[i]['Y']\n",
    "    \n",
    "    X_train, X_test, y_train, y_test = train_test_split(X, Y, test_size=0.2, random_state=0)\n",
    "        \n",
    "    my_models_t1[2].fit(X_train, y_train) #training the algorithm\n",
    "    y_pred = my_models_t1[2].predict(X_test)\n",
    "     \n",
    "    MSE_mlr[i], MAPE_mlr[i], sMAPE_mlr[i] = calculate_perform_metrics(y_test, y_pred) \n",
    "         \n",
    "scores_rf_gb = pd.DataFrame({'MSE': MSE_mlr, 'MAPE': MAPE_mlr, 'sMAPE': sMAPE_mlr})                                                                                            \n",
    "scores_rf_gb.mean()        "
   ]
  },
  {
   "cell_type": "code",
   "execution_count": null,
   "metadata": {},
   "outputs": [],
   "source": []
  },
  {
   "cell_type": "code",
   "execution_count": null,
   "metadata": {},
   "outputs": [],
   "source": []
  }
 ],
 "metadata": {
  "kernelspec": {
   "display_name": "Python 3",
   "language": "python",
   "name": "python3"
  },
  "language_info": {
   "codemirror_mode": {
    "name": "ipython",
    "version": 3
   },
   "file_extension": ".py",
   "mimetype": "text/x-python",
   "name": "python",
   "nbconvert_exporter": "python",
   "pygments_lexer": "ipython3",
   "version": "3.7.3"
  }
 },
 "nbformat": 4,
 "nbformat_minor": 2
}
