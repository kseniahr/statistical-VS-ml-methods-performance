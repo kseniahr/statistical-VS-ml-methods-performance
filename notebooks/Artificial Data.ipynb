{
 "cells": [
  {
   "cell_type": "code",
   "execution_count": 1,
   "metadata": {},
   "outputs": [],
   "source": [
    "import pandas as pd\n",
    "import numpy as np\n",
    "import random"
   ]
  },
  {
   "cell_type": "code",
   "execution_count": null,
   "metadata": {},
   "outputs": [],
   "source": []
  },
  {
   "cell_type": "code",
   "execution_count": 2,
   "metadata": {},
   "outputs": [],
   "source": [
    "#data generation parameters\n",
    "N=10000 # Observations in the population\n",
    "n=1000  # Observations in each sample \n",
    "k=10   # Number of samples\n",
    "m=3    # Number of models: Linear Regression, Random Forest, LSTM Neural Net\n",
    "parameters = [N, n, k]"
   ]
  },
  {
   "cell_type": "code",
   "execution_count": 3,
   "metadata": {},
   "outputs": [],
   "source": [
    "# Parameter for the simulation model\n",
    "intercept = 0\n",
    "beta1 = 1\n",
    "beta2 = 1\n",
    "beta3 = 1\n",
    "error_sd = 1"
   ]
  },
  {
   "cell_type": "code",
   "execution_count": 4,
   "metadata": {},
   "outputs": [],
   "source": [
    "# Generate exogene variables (including latent variables like prediction-error)\n",
    "# rnorm draws random numbers from a normal distribution, \n",
    "# the arguments are rnorm(Number of random numbers, mean, sd) \n"
   ]
  },
  {
   "cell_type": "code",
   "execution_count": 5,
   "metadata": {},
   "outputs": [],
   "source": [
    "X1 = np.random.normal(0.0, 1.0, N) \n",
    "X2 = np.random.normal(0.0, 1.0, N) \n",
    "X3 = np.random.normal(0.0, 1.0, N) \n",
    "error = np.random.normal(0.0, error_sd, N)"
   ]
  },
  {
   "cell_type": "code",
   "execution_count": 6,
   "metadata": {},
   "outputs": [],
   "source": [
    "# calculate endogene variables\n",
    "Y = intercept+ beta1*X1+ beta2*X2+ beta3*X3 + error"
   ]
  },
  {
   "cell_type": "code",
   "execution_count": 7,
   "metadata": {},
   "outputs": [],
   "source": [
    "# combine them in a data-frame\n",
    "population = pd.DataFrame({'X1': X1, 'X2': X2, 'X3': X3, 'Y': Y, 'error': error})"
   ]
  },
  {
   "cell_type": "code",
   "execution_count": 8,
   "metadata": {},
   "outputs": [
    {
     "data": {
      "text/html": [
       "<div>\n",
       "<style scoped>\n",
       "    .dataframe tbody tr th:only-of-type {\n",
       "        vertical-align: middle;\n",
       "    }\n",
       "\n",
       "    .dataframe tbody tr th {\n",
       "        vertical-align: top;\n",
       "    }\n",
       "\n",
       "    .dataframe thead th {\n",
       "        text-align: right;\n",
       "    }\n",
       "</style>\n",
       "<table border=\"1\" class=\"dataframe\">\n",
       "  <thead>\n",
       "    <tr style=\"text-align: right;\">\n",
       "      <th></th>\n",
       "      <th>X1</th>\n",
       "      <th>X2</th>\n",
       "      <th>X3</th>\n",
       "      <th>Y</th>\n",
       "      <th>error</th>\n",
       "    </tr>\n",
       "  </thead>\n",
       "  <tbody>\n",
       "    <tr>\n",
       "      <td>0</td>\n",
       "      <td>-0.755949</td>\n",
       "      <td>1.034721</td>\n",
       "      <td>0.754535</td>\n",
       "      <td>1.727019</td>\n",
       "      <td>0.693713</td>\n",
       "    </tr>\n",
       "    <tr>\n",
       "      <td>1</td>\n",
       "      <td>0.078379</td>\n",
       "      <td>-1.873401</td>\n",
       "      <td>0.487149</td>\n",
       "      <td>0.153466</td>\n",
       "      <td>1.461341</td>\n",
       "    </tr>\n",
       "    <tr>\n",
       "      <td>2</td>\n",
       "      <td>1.332183</td>\n",
       "      <td>-1.209118</td>\n",
       "      <td>0.262589</td>\n",
       "      <td>-0.919864</td>\n",
       "      <td>-1.305519</td>\n",
       "    </tr>\n",
       "    <tr>\n",
       "      <td>3</td>\n",
       "      <td>-0.562687</td>\n",
       "      <td>0.496001</td>\n",
       "      <td>-0.382049</td>\n",
       "      <td>-1.179288</td>\n",
       "      <td>-0.730554</td>\n",
       "    </tr>\n",
       "    <tr>\n",
       "      <td>4</td>\n",
       "      <td>0.450905</td>\n",
       "      <td>-2.419549</td>\n",
       "      <td>2.241250</td>\n",
       "      <td>2.140690</td>\n",
       "      <td>1.868085</td>\n",
       "    </tr>\n",
       "  </tbody>\n",
       "</table>\n",
       "</div>"
      ],
      "text/plain": [
       "         X1        X2        X3         Y     error\n",
       "0 -0.755949  1.034721  0.754535  1.727019  0.693713\n",
       "1  0.078379 -1.873401  0.487149  0.153466  1.461341\n",
       "2  1.332183 -1.209118  0.262589 -0.919864 -1.305519\n",
       "3 -0.562687  0.496001 -0.382049 -1.179288 -0.730554\n",
       "4  0.450905 -2.419549  2.241250  2.140690  1.868085"
      ]
     },
     "execution_count": 8,
     "metadata": {},
     "output_type": "execute_result"
    }
   ],
   "source": [
    "population.head()"
   ]
  },
  {
   "cell_type": "code",
   "execution_count": 9,
   "metadata": {},
   "outputs": [],
   "source": [
    "index = random.sample(range(1, N), n)"
   ]
  },
  {
   "cell_type": "code",
   "execution_count": 10,
   "metadata": {},
   "outputs": [
    {
     "name": "stdout",
     "output_type": "stream",
     "text": [
      "[[0], [0], [0], [0], [0], [0], [0], [0], [0], [0]]\n"
     ]
    }
   ],
   "source": [
    "samples_list = [[0]]*k\n",
    "print(samples_list)\n",
    "for i in range(0, k):\n",
    "    index = random.sample(range(0, N), n)\n",
    "    samples_list[i] = population.iloc[ index, :]\n",
    "    samples_list[i].insert(0, 'sample_n', i)"
   ]
  },
  {
   "cell_type": "code",
   "execution_count": 11,
   "metadata": {},
   "outputs": [
    {
     "name": "stdout",
     "output_type": "stream",
     "text": [
      "                            OLS Regression Results                            \n",
      "==============================================================================\n",
      "Dep. Variable:                      Y   R-squared:                       0.754\n",
      "Model:                            OLS   Adj. R-squared:                  0.753\n",
      "Method:                 Least Squares   F-statistic:                     1017.\n",
      "Date:                Fri, 22 Nov 2019   Prob (F-statistic):          1.34e-302\n",
      "Time:                        15:52:49   Log-Likelihood:                -1409.3\n",
      "No. Observations:                1000   AIC:                             2827.\n",
      "Df Residuals:                     996   BIC:                             2846.\n",
      "Df Model:                           3                                         \n",
      "Covariance Type:            nonrobust                                         \n",
      "==============================================================================\n",
      "                 coef    std err          t      P>|t|      [0.025      0.975]\n",
      "------------------------------------------------------------------------------\n",
      "const         -0.0515      0.031     -1.642      0.101      -0.113       0.010\n",
      "X1             1.0243      0.031     32.554      0.000       0.963       1.086\n",
      "X2             0.9838      0.030     32.431      0.000       0.924       1.043\n",
      "X3             0.9852      0.032     31.227      0.000       0.923       1.047\n",
      "==============================================================================\n",
      "Omnibus:                        1.761   Durbin-Watson:                   2.006\n",
      "Prob(Omnibus):                  0.415   Jarque-Bera (JB):                1.620\n",
      "Skew:                          -0.082   Prob(JB):                        0.445\n",
      "Kurtosis:                       3.110   Cond. No.                         1.06\n",
      "==============================================================================\n",
      "\n",
      "Warnings:\n",
      "[1] Standard Errors assume that the covariance matrix of the errors is correctly specified.\n"
     ]
    },
    {
     "name": "stderr",
     "output_type": "stream",
     "text": [
      "/Users/oksanahrytsiv/opt/anaconda3/lib/python3.7/site-packages/numpy/core/fromnumeric.py:2495: FutureWarning: Method .ptp is deprecated and will be removed in a future version. Use numpy.ptp instead.\n",
      "  return ptp(axis=axis, out=out, **kwargs)\n"
     ]
    }
   ],
   "source": [
    "# For dataset(random sample) description\n",
    "import statsmodels.api as sm\n",
    "\n",
    "X = samples_list[0][['X1','X2', 'X3']] # here we have 3 variables for multiple regression\n",
    "Y = samples_list[0]['Y']\n",
    "\n",
    "X = sm.add_constant(X) # adding a constant\n",
    "\n",
    "model = sm.OLS(Y, X).fit()\n",
    "predictions = model.predict(X) \n",
    "\n",
    "print_model = model.summary()\n",
    "print(print_model)"
   ]
  },
  {
   "cell_type": "code",
   "execution_count": 12,
   "metadata": {},
   "outputs": [],
   "source": [
    "def calculate_perform_metrics(y_test, y_pred):\n",
    "    # Calculate mean squarred error (MSE)\n",
    "    MSE = metrics.mean_squared_error(y_test, y_pred)\n",
    "    # Calculate mean absolute percentage error (MAPE)\n",
    "    MAPE = np.mean(np.abs((y_test - y_pred) / y_test)) * 100\n",
    "    # Calculate symmetric mean absolute percentage error (sMAPE)\n",
    "    sMAPE = 100/len(y_test) * np.sum(2 * np.abs(y_pred - y_test) / (np.abs(y_test) + np.abs(y_pred)))        \n",
    "    return MSE, MAPE, sMAPE\n",
    "    "
   ]
  },
  {
   "cell_type": "markdown",
   "metadata": {},
   "source": [
    "now we have k samples, each one with n observations, stored in the object samples_list"
   ]
  },
  {
   "cell_type": "code",
   "execution_count": 13,
   "metadata": {},
   "outputs": [
    {
     "data": {
      "text/plain": [
       "MSE        0.989755\n",
       "MAPE     201.624973\n",
       "sMAPE     81.718183\n",
       "dtype: float64"
      ]
     },
     "execution_count": 13,
     "metadata": {},
     "output_type": "execute_result"
    }
   ],
   "source": [
    "from sklearn.model_selection import train_test_split \n",
    "from sklearn.linear_model import LinearRegression\n",
    "from sklearn.ensemble import RandomForestRegressor, GradientBoostingRegressor\n",
    "from sklearn import metrics\n",
    "\n",
    "# Next we want to fit a model on each sample\n",
    "mlr = LinearRegression()\n",
    "rf  = RandomForestRegressor()\n",
    "gb  = GradientBoostingRegressor()\n",
    "\n",
    "my_models_t1 = [mlr, rf, gb]\n",
    "\n",
    "features = ['X1','X2', 'X3']\n",
    "#---------------------------------------------------------\n",
    "# Fit Linear Regression to all samples of Y1\n",
    "#---------------------------------------------------------\n",
    "MSE_mlr   = np.empty(k)\n",
    "MAPE_mlr  = np.empty(k)\n",
    "sMAPE_mlr = np.empty(k)\n",
    "\n",
    "for i in range(0, k):\n",
    "    samples_list[i] = pd.DataFrame(samples_list[i], columns = ['X1' , 'X2', 'X3', 'Y'])\n",
    "    X = samples_list[i].drop('Y', axis = 1) # here we have 3 variables for multiple regression.\n",
    "    Y = samples_list[i]['Y']\n",
    "    \n",
    "    X_train, X_test, y_train, y_test = train_test_split(X, Y, test_size=0.2, random_state=0)\n",
    "        \n",
    "    my_models_t1[0].fit(X_train, y_train) #training the algorithm\n",
    "    y_pred = my_models_t1[0].predict(X_test)\n",
    "     \n",
    "    MSE_mlr[i], MAPE_mlr[i], sMAPE_mlr[i] = calculate_perform_metrics(y_test, y_pred) \n",
    "         \n",
    "scores_mlr = pd.DataFrame({'MSE': MSE_mlr, 'MAPE': MAPE_mlr, 'sMAPE': sMAPE_mlr})                                                                                            \n",
    "scores_mlr.mean()        \n"
   ]
  },
  {
   "cell_type": "code",
   "execution_count": 14,
   "metadata": {},
   "outputs": [
    {
     "name": "stderr",
     "output_type": "stream",
     "text": [
      "/Users/oksanahrytsiv/opt/anaconda3/lib/python3.7/site-packages/sklearn/ensemble/forest.py:245: FutureWarning: The default value of n_estimators will change from 10 in version 0.20 to 100 in 0.22.\n",
      "  \"10 in version 0.20 to 100 in 0.22.\", FutureWarning)\n"
     ]
    },
    {
     "data": {
      "text/plain": [
       "MSE        1.301155\n",
       "MAPE     243.793797\n",
       "sMAPE     88.495546\n",
       "dtype: float64"
      ]
     },
     "execution_count": 14,
     "metadata": {},
     "output_type": "execute_result"
    }
   ],
   "source": [
    "#---------------------------------------------------------\n",
    "# Fit RandomForestRegressor to all samples of Y1\n",
    "#---------------------------------------------------------\n",
    "\n",
    "MSE_rf   = np.empty(k)\n",
    "MAPE_rf  = np.empty(k)\n",
    "sMAPE_rf = np.empty(k)\n",
    "\n",
    "for i in range(0, k):\n",
    "    samples_list[i] = pd.DataFrame(samples_list[i], columns = ['X1' , 'X2', 'X3', 'Y'])\n",
    "    X = samples_list[i].drop('Y', axis = 1) # here we have 3 variables for multiple regression.\n",
    "    Y = samples_list[i]['Y']\n",
    "    \n",
    "    X_train, X_test, y_train, y_test = train_test_split(X, Y, test_size=0.2, random_state=0)\n",
    "        \n",
    "    my_models_t1[1].fit(X_train, y_train) #training the algorithm\n",
    "    y_pred = my_models_t1[1].predict(X_test)\n",
    "     \n",
    "    MSE_mlr[i], MAPE_mlr[i], sMAPE_mlr[i] = calculate_perform_metrics(y_test, y_pred) \n",
    "         \n",
    "scores_rf = pd.DataFrame({'MSE': MSE_mlr, 'MAPE': MAPE_mlr, 'sMAPE': sMAPE_mlr})                                                                                            \n",
    "scores_rf.mean()        \n"
   ]
  },
  {
   "cell_type": "code",
   "execution_count": 15,
   "metadata": {},
   "outputs": [
    {
     "data": {
      "text/plain": [
       "MSE        1.143393\n",
       "MAPE     222.500572\n",
       "sMAPE     86.246992\n",
       "dtype: float64"
      ]
     },
     "execution_count": 15,
     "metadata": {},
     "output_type": "execute_result"
    }
   ],
   "source": [
    "#---------------------------------------------------------\n",
    "# Fit GradientBoostingRegressor to all samples of Y1\n",
    "#---------------------------------------------------------\n",
    "\n",
    "MSE_gb   = np.empty(k)\n",
    "MAPE_gb  = np.empty(k)\n",
    "sMAPE_gb = np.empty(k)\n",
    "\n",
    "for i in range(0, k):\n",
    "    samples_list[i] = pd.DataFrame(samples_list[i], columns = ['X1' , 'X2', 'X3', 'Y'])\n",
    "    X = samples_list[i].drop('Y', axis = 1) # here we have 3 variables for multiple regression.\n",
    "    Y = samples_list[i]['Y']\n",
    "    \n",
    "    X_train, X_test, y_train, y_test = train_test_split(X, Y, test_size=0.2, random_state=0)\n",
    "        \n",
    "    my_models_t1[2].fit(X_train, y_train) #training the algorithm\n",
    "    y_pred = my_models_t1[2].predict(X_test)\n",
    "     \n",
    "    MSE_mlr[i], MAPE_mlr[i], sMAPE_mlr[i] = calculate_perform_metrics(y_test, y_pred) \n",
    "         \n",
    "scores_rf_gb = pd.DataFrame({'MSE': MSE_mlr, 'MAPE': MAPE_mlr, 'sMAPE': sMAPE_mlr})                                                                                            \n",
    "scores_rf_gb.mean()        "
   ]
  },
  {
   "cell_type": "code",
   "execution_count": 17,
   "metadata": {},
   "outputs": [
    {
     "data": {
      "image/png": "[encoded data removed]",
      "text/plain": [
       "<Figure size 432x288 with 1 Axes>"
      ]
     },
     "metadata": {
      "needs_background": "light"
     },
     "output_type": "display_data"
    }
   ],
   "source": [
    "import matplotlib.pyplot as plt\n",
    "import numpy as np\n",
    "\n",
    "plt.plot([1,2,3,4], [1,4,9,16])\n",
    "plt.show()"
   ]
  },
  {
   "cell_type": "code",
   "execution_count": null,
   "metadata": {},
   "outputs": [],
   "source": []
  }
 ],
 "metadata": {
  "kernelspec": {
   "display_name": "Python 3",
   "language": "python",
   "name": "python3"
  },
  "language_info": {
   "codemirror_mode": {
    "name": "ipython",
    "version": 3
   },
   "file_extension": ".py",
   "mimetype": "text/x-python",
   "name": "python",
   "nbconvert_exporter": "python",
   "pygments_lexer": "ipython3",
   "version": "3.7.4"
  }
 },
 "nbformat": 4,
 "nbformat_minor": 2
}
