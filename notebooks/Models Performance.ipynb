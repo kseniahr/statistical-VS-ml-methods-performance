{
 "cells": [
  {
   "cell_type": "code",
   "execution_count": 1,
   "metadata": {},
   "outputs": [],
   "source": [
    "import pandas as pd\n",
    "import numpy as np\n",
    "from sklearn.model_selection import train_test_split \n",
    "from sklearn.linear_model import LinearRegression\n",
    "from sklearn.ensemble import RandomForestRegressor, GradientBoostingRegressor\n",
    "from sklearn import metrics"
   ]
  },
  {
   "cell_type": "code",
   "execution_count": 2,
   "metadata": {},
   "outputs": [],
   "source": [
    "#data generation parameters\n",
    "\n",
    "N=10000 # Observations in the population\n",
    "n=1000  # Observations in each sample \n",
    "k=10   # Number of samples\n",
    "m=3    # Number of models: Linear Regression, Random Forest, LSTM Neural Net"
   ]
  },
  {
   "cell_type": "code",
   "execution_count": 5,
   "metadata": {},
   "outputs": [],
   "source": [
    "## Define coefficients to generate data for Y1\n",
    "\n",
    "# It would be useful to have one input-variable that is useless so that it can be excluded\n",
    "# I use 1 and -1 as the beta-coefficients for the other two input variables as an arbitrary choice\n",
    "\n",
    "intercept_t1, beta1_t1, beta2_t1, beta3_t1 = 0 , 1, 1 , 1\n",
    "#beta1_t1 = 1\n",
    "#beta2_t1 = 1\n",
    "#beta3_t1 = 1\n",
    "error_sd_t1 = 1"
   ]
  },
  {
   "cell_type": "code",
   "execution_count": null,
   "metadata": {},
   "outputs": [],
   "source": [
    "# Generate exogene variables (including latent variables like prediction-error)\n",
    "# rnorm draws random numbers from a normal distribution, \n",
    "# the arguments are rnorm(Number of random numbers, mean, sd) \n",
    "\n",
    "X1_t1 = np.random.normal(0.0, 1.0, N) \n",
    "X2_t1 = np.random.normal(0.0, 1.0, N) \n",
    "X3_t1 = np.random.normal(0.0, 1.0, N) \n",
    "error_t1 = np.random.normal(0.0, error_sd, N)"
   ]
  },
  {
   "cell_type": "code",
   "execution_count": 2,
   "metadata": {},
   "outputs": [],
   "source": [
    "# Next we want to fit chosen models on each sample\n",
    "\n",
    "mlr = LinearRegression()\n",
    "rf  = RandomForestRegressor()\n",
    "gb  = GradientBoostingRegressor()\n",
    "\n",
    "my_models_t1 = [mlr, rf, gb]\n",
    "\n",
    "features = ['X1','X2', 'X3']"
   ]
  },
  {
   "cell_type": "code",
   "execution_count": 6,
   "metadata": {},
   "outputs": [
    {
     "ename": "NameError",
     "evalue": "name 'k' is not defined",
     "output_type": "error",
     "traceback": [
      "\u001b[0;31m---------------------------------------------------------------------------\u001b[0m",
      "\u001b[0;31mNameError\u001b[0m                                 Traceback (most recent call last)",
      "\u001b[0;32m<ipython-input-6-9fa7efe50198>\u001b[0m in \u001b[0;36m<module>\u001b[0;34m\u001b[0m\n\u001b[1;32m      2\u001b[0m \u001b[0;31m# Fit Linear Regression to all samples of Y1\u001b[0m\u001b[0;34m\u001b[0m\u001b[0;34m\u001b[0m\u001b[0;34m\u001b[0m\u001b[0m\n\u001b[1;32m      3\u001b[0m \u001b[0;31m#---------------------------------------------------------\u001b[0m\u001b[0;34m\u001b[0m\u001b[0;34m\u001b[0m\u001b[0;34m\u001b[0m\u001b[0m\n\u001b[0;32m----> 4\u001b[0;31m \u001b[0mMSE_mlr\u001b[0m   \u001b[0;34m=\u001b[0m \u001b[0mnp\u001b[0m\u001b[0;34m.\u001b[0m\u001b[0mempty\u001b[0m\u001b[0;34m(\u001b[0m\u001b[0mk\u001b[0m\u001b[0;34m)\u001b[0m\u001b[0;34m\u001b[0m\u001b[0;34m\u001b[0m\u001b[0m\n\u001b[0m\u001b[1;32m      5\u001b[0m \u001b[0mMAPE_mlr\u001b[0m  \u001b[0;34m=\u001b[0m \u001b[0mnp\u001b[0m\u001b[0;34m.\u001b[0m\u001b[0mempty\u001b[0m\u001b[0;34m(\u001b[0m\u001b[0mk\u001b[0m\u001b[0;34m)\u001b[0m\u001b[0;34m\u001b[0m\u001b[0;34m\u001b[0m\u001b[0m\n\u001b[1;32m      6\u001b[0m \u001b[0msMAPE_mlr\u001b[0m \u001b[0;34m=\u001b[0m \u001b[0mnp\u001b[0m\u001b[0;34m.\u001b[0m\u001b[0mempty\u001b[0m\u001b[0;34m(\u001b[0m\u001b[0mk\u001b[0m\u001b[0;34m)\u001b[0m\u001b[0;34m\u001b[0m\u001b[0;34m\u001b[0m\u001b[0m\n",
      "\u001b[0;31mNameError\u001b[0m: name 'k' is not defined"
     ]
    }
   ],
   "source": [
    "#---------------------------------------------------------\n",
    "# Fit Linear Regression to all samples of Y1\n",
    "#---------------------------------------------------------\n",
    "MSE_mlr   = np.empty(k)\n",
    "MAPE_mlr  = np.empty(k)\n",
    "sMAPE_mlr = np.empty(k)\n",
    "\n",
    "for i in range(0, k):\n",
    "    samples_list[i] = pd.DataFrame(samples_list[i], columns = ['X1' , 'X2', 'X3', 'Y'])\n",
    "    X = samples_list[i].drop('Y', axis = 1) # here we have 3 variables for multiple regression.\n",
    "    Y = samples_list[i]['Y']\n",
    "    \n",
    "    X_train, X_test, y_train, y_test = train_test_split(X, Y, test_size=0.2, random_state=0)\n",
    "        \n",
    "    my_models_t1[0].fit(X_train, y_train) #training the algorithm\n",
    "    y_pred = my_models_t1[0].predict(X_test)\n",
    "     \n",
    "    MSE_mlr[i], MAPE_mlr[i], sMAPE_mlr[i] = calculate_perform_metrics(y_test, y_pred) \n",
    "         \n",
    "scores_mlr = pd.DataFrame({'MSE': MSE_mlr, 'MAPE': MAPE_mlr, 'sMAPE': sMAPE_mlr})                                                                                            \n",
    "scores_mlr.mean()      "
   ]
  },
  {
   "cell_type": "code",
   "execution_count": null,
   "metadata": {},
   "outputs": [],
   "source": []
  }
 ],
 "metadata": {
  "kernelspec": {
   "display_name": "Python 3",
   "language": "python",
   "name": "python3"
  },
  "language_info": {
   "codemirror_mode": {
    "name": "ipython",
    "version": 3
   },
   "file_extension": ".py",
   "mimetype": "text/x-python",
   "name": "python",
   "nbconvert_exporter": "python",
   "pygments_lexer": "ipython3",
   "version": "3.7.4"
  }
 },
 "nbformat": 4,
 "nbformat_minor": 2
}
