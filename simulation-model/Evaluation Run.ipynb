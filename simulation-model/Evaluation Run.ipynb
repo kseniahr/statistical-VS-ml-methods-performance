{
 "cells": [
  {
   "cell_type": "code",
   "execution_count": 1,
   "metadata": {},
   "outputs": [
    {
     "name": "stdout",
     "output_type": "stream",
     "text": [
      "Choose which regression function to test (linear or polynomial): linear\n",
      "Choose which study to run (study1, study2, study3 or study4): study1\n",
      "Simulation of distribution change of input variables, including Linear Regression,         Random Forest Regression and Gradient Boosting Regression on  1000 artificially         generated observations for each of  10 years is finished.\n"
     ]
    }
   ],
   "source": [
    "%run Main.py"
   ]
  },
  {
   "cell_type": "code",
   "execution_count": null,
   "metadata": {},
   "outputs": [],
   "source": []
  }
 ],
 "metadata": {
  "kernelspec": {
   "display_name": "Python 3",
   "language": "python",
   "name": "python3"
  },
  "language_info": {
   "codemirror_mode": {
    "name": "ipython",
    "version": 3
   },
   "file_extension": ".py",
   "mimetype": "text/x-python",
   "name": "python",
   "nbconvert_exporter": "python",
   "pygments_lexer": "ipython3",
   "version": "3.6.7"
  }
 },
 "nbformat": 4,
 "nbformat_minor": 2
}
